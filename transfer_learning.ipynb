{
 "cells": [
  {
   "cell_type": "markdown",
   "metadata": {},
   "source": [
    "# Convolutional Neural Networks\n",
    "\n",
    "## Project: Write an Algorithm for Landmark Classification\n",
    "\n",
    "\n",
    "### Transfer learning\n",
    "\n",
    "In the previous notebook we have trained our own CNN and we got a certain performance. Let's see how hard it is to match that performance with transfer learning.\n",
    "\n",
    "---\n",
    "## <img src=\"static_images/icons/noun-advance-2109145.png\" alt=\">\" style=\"width:50px\"/> Step 0: Setting up\n",
    "\n",
    "The following cells make sure that your environment is setup correctly and check that your GPU is available and ready to go. You have to execute them every time you restart your notebook."
   ]
  },
  {
   "cell_type": "code",
   "execution_count": 1,
   "metadata": {},
   "outputs": [
    {
     "name": "stdout",
     "output_type": "stream",
     "text": [
      "Defaulting to user installation because normal site-packages is not writeable\r\n"
     ]
    }
   ],
   "source": [
    "# Install requirements\n",
    "!pip install -r requirements.txt | grep -v \"already satisfied\""
   ]
  },
  {
   "cell_type": "code",
   "execution_count": 1,
   "metadata": {},
   "outputs": [
    {
     "name": "stdout",
     "output_type": "stream",
     "text": [
      "Defaulting to user installation because normal site-packages is not writeable\n",
      "Requirement already satisfied: pytest in /root/.local/lib/python3.7/site-packages (7.1.1)\n",
      "Requirement already satisfied: importlib-metadata>=0.12; python_version < \"3.8\" in /opt/conda/lib/python3.7/site-packages (from pytest) (1.5.0)\n",
      "Requirement already satisfied: iniconfig in /root/.local/lib/python3.7/site-packages (from pytest) (2.0.0)\n",
      "Requirement already satisfied: py>=1.8.2 in /root/.local/lib/python3.7/site-packages (from pytest) (1.11.0)\n",
      "Requirement already satisfied: packaging in /opt/conda/lib/python3.7/site-packages (from pytest) (20.1)\n",
      "Requirement already satisfied: pluggy<2.0,>=0.12 in /root/.local/lib/python3.7/site-packages (from pytest) (1.2.0)\n",
      "Requirement already satisfied: tomli>=1.0.0 in /root/.local/lib/python3.7/site-packages (from pytest) (2.0.1)\n",
      "Requirement already satisfied: attrs>=19.2.0 in /opt/conda/lib/python3.7/site-packages (from pytest) (19.3.0)\n",
      "Requirement already satisfied: zipp>=0.5 in /opt/conda/lib/python3.7/site-packages (from importlib-metadata>=0.12; python_version < \"3.8\"->pytest) (3.0.0)\n",
      "Requirement already satisfied: six in /opt/conda/lib/python3.7/site-packages (from packaging->pytest) (1.16.0)\n",
      "Requirement already satisfied: pyparsing>=2.0.2 in /opt/conda/lib/python3.7/site-packages (from packaging->pytest) (2.4.6)\n"
     ]
    }
   ],
   "source": [
    "!pip install pytest"
   ]
  },
  {
   "cell_type": "code",
   "execution_count": 1,
   "metadata": {},
   "outputs": [
    {
     "name": "stdout",
     "output_type": "stream",
     "text": [
      "GPU available\n",
      "Dataset already downloaded. If you need to re-download, please delete the directory /data/DLND/C2/landmark_images\n",
      "Reusing cached mean and std\n"
     ]
    }
   ],
   "source": [
    "from src.helpers import setup_env\n",
    "\n",
    "# If running locally, this will download dataset (make sure you have at least 2 Gb of space on your hard drive)\n",
    "setup_env()"
   ]
  },
  {
   "cell_type": "markdown",
   "metadata": {},
   "source": [
    "---\n",
    "## <img src=\"static_images/icons/noun-advance-2109145.png\" alt=\">\" style=\"width:50px\"/> Step 1: Create transfer learning architecture\n",
    "\n",
    "Open the file `src/transfer.py` and complete the `get_model_transfer_learning` function. When you are done, execute this test:"
   ]
  },
  {
   "cell_type": "code",
   "execution_count": 2,
   "metadata": {},
   "outputs": [
    {
     "name": "stdout",
     "output_type": "stream",
     "text": [
      "\u001b[1m============================= test session starts ==============================\u001b[0m\n",
      "platform linux -- Python 3.7.6, pytest-7.1.1, pluggy-1.2.0 -- /opt/conda/bin/python3.7\n",
      "cachedir: .pytest_cache\n",
      "rootdir: /workspace/home\n",
      "collected 1 item                                                               \u001b[0m\u001b[1m\n",
      "\n",
      "src/transfer.py::test_get_model_transfer_learning \u001b[32mPASSED\u001b[0m\u001b[32m                 [100%]\u001b[0m\n",
      "\n",
      "\u001b[32m============================== \u001b[32m\u001b[1m1 passed\u001b[0m\u001b[32m in 10.59s\u001b[0m\u001b[32m ==============================\u001b[0m\n"
     ]
    }
   ],
   "source": [
    "!pytest -vv src/transfer.py"
   ]
  },
  {
   "cell_type": "markdown",
   "metadata": {},
   "source": [
    "---\n",
    "## <img src=\"static_images/icons/noun-advance-2109145.png\" alt=\">\" style=\"width:50px\"/> Step 2: Train, validation and test\n",
    "\n",
    "Let's train our transfer learning model! Let's start defining the hyperparameters:"
   ]
  },
  {
   "cell_type": "code",
   "execution_count": 4,
   "metadata": {},
   "outputs": [],
   "source": [
    "model_name = \"resnet152\"\n",
    "batch_size = 64  # size of the minibatch for stochastic gradient descent (or Adam)\n",
    "valid_size = 0.2  # fraction of the training data to reserve for validation\n",
    "# num_epochs = 50  # number of epochs for training\n",
    "num_epochs = 100  # number of epochs for training\n",
    "num_classes = 50  # number of classes. Do not change this\n",
    "learning_rate = 0.001  # Learning rate for SGD (or Adam)\n",
    "opt = 'adam'      # optimizer. 'sgd' or 'adam'\n",
    "momentum = 0.5\n",
    "weight_decay = 0.0 # regularization. Increase this to combat overfitting"
   ]
  },
  {
   "cell_type": "code",
   "execution_count": 5,
   "metadata": {
    "scrolled": false
   },
   "outputs": [
    {
     "name": "stderr",
     "output_type": "stream",
     "text": [
      "Downloading: \"https://download.pytorch.org/models/resnet152-394f9c45.pth\" to /root/.cache/torch/hub/checkpoints/resnet152-394f9c45.pth\n"
     ]
    },
    {
     "data": {
      "application/vnd.jupyter.widget-view+json": {
       "model_id": "907fd8f81ae84051bc813572e03660eb",
       "version_major": 2,
       "version_minor": 0
      },
      "text/plain": [
       "  0%|          | 0.00/230M [00:00<?, ?B/s]"
      ]
     },
     "metadata": {},
     "output_type": "display_data"
    },
    {
     "name": "stdout",
     "output_type": "stream",
     "text": [
      "Reusing cached mean and std\n",
      "Dataset mean: tensor([0.4638, 0.4725, 0.4687]), std: tensor([0.2699, 0.2706, 0.3018])\n"
     ]
    },
    {
     "name": "stderr",
     "output_type": "stream",
     "text": [
      "Training: 100%|█████████████████████████████████| 63/63 [01:30<00:00,  1.43s/it]\n",
      "Validating: 100%|███████████████████████████████| 16/16 [00:19<00:00,  1.19s/it]\n"
     ]
    },
    {
     "name": "stdout",
     "output_type": "stream",
     "text": [
      "Epoch: 1 \tTraining Loss: 3.312560 \tValidation Loss: 2.265405\n",
      "New minimum validation loss: 2.265405. Saving model ...\n"
     ]
    },
    {
     "name": "stderr",
     "output_type": "stream",
     "text": [
      "Training: 100%|█████████████████████████████████| 63/63 [01:22<00:00,  1.31s/it]\n",
      "Validating: 100%|███████████████████████████████| 16/16 [00:17<00:00,  1.08s/it]\n"
     ]
    },
    {
     "name": "stdout",
     "output_type": "stream",
     "text": [
      "Epoch: 2 \tTraining Loss: 2.346072 \tValidation Loss: 1.720330\n",
      "New minimum validation loss: 1.720330. Saving model ...\n"
     ]
    },
    {
     "name": "stderr",
     "output_type": "stream",
     "text": [
      "Training: 100%|█████████████████████████████████| 63/63 [01:24<00:00,  1.35s/it]\n",
      "Validating: 100%|███████████████████████████████| 16/16 [00:17<00:00,  1.09s/it]\n"
     ]
    },
    {
     "name": "stdout",
     "output_type": "stream",
     "text": [
      "Epoch: 3 \tTraining Loss: 2.004150 \tValidation Loss: 1.480524\n",
      "New minimum validation loss: 1.480524. Saving model ...\n"
     ]
    },
    {
     "name": "stderr",
     "output_type": "stream",
     "text": [
      "Training: 100%|█████████████████████████████████| 63/63 [01:23<00:00,  1.33s/it]\n",
      "Validating: 100%|███████████████████████████████| 16/16 [00:17<00:00,  1.09s/it]\n"
     ]
    },
    {
     "name": "stdout",
     "output_type": "stream",
     "text": [
      "Epoch: 4 \tTraining Loss: 1.848883 \tValidation Loss: 1.418896\n",
      "New minimum validation loss: 1.418896. Saving model ...\n"
     ]
    },
    {
     "name": "stderr",
     "output_type": "stream",
     "text": [
      "Training: 100%|█████████████████████████████████| 63/63 [01:23<00:00,  1.33s/it]\n",
      "Validating: 100%|███████████████████████████████| 16/16 [00:17<00:00,  1.09s/it]\n"
     ]
    },
    {
     "name": "stdout",
     "output_type": "stream",
     "text": [
      "Epoch: 5 \tTraining Loss: 1.760826 \tValidation Loss: 1.382465\n",
      "New minimum validation loss: 1.382465. Saving model ...\n"
     ]
    },
    {
     "name": "stderr",
     "output_type": "stream",
     "text": [
      "Training: 100%|█████████████████████████████████| 63/63 [01:24<00:00,  1.34s/it]\n",
      "Validating: 100%|███████████████████████████████| 16/16 [00:17<00:00,  1.09s/it]\n"
     ]
    },
    {
     "name": "stdout",
     "output_type": "stream",
     "text": [
      "Epoch: 6 \tTraining Loss: 1.674717 \tValidation Loss: 1.297775\n",
      "New minimum validation loss: 1.297775. Saving model ...\n"
     ]
    },
    {
     "name": "stderr",
     "output_type": "stream",
     "text": [
      "Training: 100%|█████████████████████████████████| 63/63 [01:24<00:00,  1.35s/it]\n",
      "Validating: 100%|███████████████████████████████| 16/16 [00:17<00:00,  1.08s/it]"
     ]
    },
    {
     "name": "stdout",
     "output_type": "stream",
     "text": [
      "Epoch: 7 \tTraining Loss: 1.601604 \tValidation Loss: 1.302698\n"
     ]
    },
    {
     "name": "stderr",
     "output_type": "stream",
     "text": [
      "\n",
      "Training: 100%|█████████████████████████████████| 63/63 [01:23<00:00,  1.32s/it]\n",
      "Validating: 100%|███████████████████████████████| 16/16 [00:17<00:00,  1.09s/it]\n"
     ]
    },
    {
     "name": "stdout",
     "output_type": "stream",
     "text": [
      "Epoch: 8 \tTraining Loss: 1.573090 \tValidation Loss: 1.248383\n",
      "New minimum validation loss: 1.248383. Saving model ...\n"
     ]
    },
    {
     "name": "stderr",
     "output_type": "stream",
     "text": [
      "Training: 100%|█████████████████████████████████| 63/63 [01:23<00:00,  1.32s/it]\n",
      "Validating: 100%|███████████████████████████████| 16/16 [00:17<00:00,  1.08s/it]\n"
     ]
    },
    {
     "name": "stdout",
     "output_type": "stream",
     "text": [
      "Epoch: 9 \tTraining Loss: 1.552942 \tValidation Loss: 1.228488\n",
      "New minimum validation loss: 1.228488. Saving model ...\n"
     ]
    },
    {
     "name": "stderr",
     "output_type": "stream",
     "text": [
      "Training: 100%|█████████████████████████████████| 63/63 [01:23<00:00,  1.33s/it]\n",
      "Validating: 100%|███████████████████████████████| 16/16 [00:17<00:00,  1.08s/it]\n"
     ]
    },
    {
     "name": "stdout",
     "output_type": "stream",
     "text": [
      "Epoch: 10 \tTraining Loss: 1.507344 \tValidation Loss: 1.208957\n",
      "New minimum validation loss: 1.208957. Saving model ...\n"
     ]
    },
    {
     "name": "stderr",
     "output_type": "stream",
     "text": [
      "Training: 100%|█████████████████████████████████| 63/63 [01:22<00:00,  1.32s/it]\n",
      "Validating: 100%|███████████████████████████████| 16/16 [00:17<00:00,  1.10s/it]"
     ]
    },
    {
     "name": "stdout",
     "output_type": "stream",
     "text": [
      "Epoch: 11 \tTraining Loss: 1.471866 \tValidation Loss: 1.214578\n"
     ]
    },
    {
     "name": "stderr",
     "output_type": "stream",
     "text": [
      "\n",
      "Training: 100%|█████████████████████████████████| 63/63 [01:23<00:00,  1.33s/it]\n",
      "Validating: 100%|███████████████████████████████| 16/16 [00:17<00:00,  1.07s/it]"
     ]
    },
    {
     "name": "stdout",
     "output_type": "stream",
     "text": [
      "Epoch: 12 \tTraining Loss: 1.423335 \tValidation Loss: 1.256206\n"
     ]
    },
    {
     "name": "stderr",
     "output_type": "stream",
     "text": [
      "\n",
      "Training: 100%|█████████████████████████████████| 63/63 [01:23<00:00,  1.32s/it]\n",
      "Validating: 100%|███████████████████████████████| 16/16 [00:17<00:00,  1.08s/it]"
     ]
    },
    {
     "name": "stdout",
     "output_type": "stream",
     "text": [
      "Epoch: 13 \tTraining Loss: 1.416291 \tValidation Loss: 1.215026\n"
     ]
    },
    {
     "name": "stderr",
     "output_type": "stream",
     "text": [
      "\n",
      "Training: 100%|█████████████████████████████████| 63/63 [01:22<00:00,  1.31s/it]\n",
      "Validating: 100%|███████████████████████████████| 16/16 [00:17<00:00,  1.09s/it]"
     ]
    },
    {
     "name": "stdout",
     "output_type": "stream",
     "text": [
      "Epoch: 14 \tTraining Loss: 1.428471 \tValidation Loss: 1.235522\n"
     ]
    },
    {
     "name": "stderr",
     "output_type": "stream",
     "text": [
      "\n",
      "Training: 100%|█████████████████████████████████| 63/63 [01:23<00:00,  1.33s/it]\n",
      "Validating: 100%|███████████████████████████████| 16/16 [00:17<00:00,  1.08s/it]"
     ]
    },
    {
     "name": "stdout",
     "output_type": "stream",
     "text": [
      "Epoch: 15 \tTraining Loss: 1.372599 \tValidation Loss: 1.230178\n"
     ]
    },
    {
     "name": "stderr",
     "output_type": "stream",
     "text": [
      "\n",
      "Training: 100%|█████████████████████████████████| 63/63 [01:22<00:00,  1.31s/it]\n",
      "Validating: 100%|███████████████████████████████| 16/16 [00:17<00:00,  1.08s/it]"
     ]
    },
    {
     "name": "stdout",
     "output_type": "stream",
     "text": [
      "Epoch: 16 \tTraining Loss: 1.372066 \tValidation Loss: 1.223143\n"
     ]
    },
    {
     "name": "stderr",
     "output_type": "stream",
     "text": [
      "\n",
      "Training: 100%|█████████████████████████████████| 63/63 [01:22<00:00,  1.31s/it]\n",
      "Validating: 100%|███████████████████████████████| 16/16 [00:17<00:00,  1.09s/it]\n"
     ]
    },
    {
     "name": "stdout",
     "output_type": "stream",
     "text": [
      "Epoch: 17 \tTraining Loss: 1.349334 \tValidation Loss: 1.148268\n",
      "New minimum validation loss: 1.148268. Saving model ...\n"
     ]
    },
    {
     "name": "stderr",
     "output_type": "stream",
     "text": [
      "Training: 100%|█████████████████████████████████| 63/63 [01:23<00:00,  1.32s/it]\n",
      "Validating: 100%|███████████████████████████████| 16/16 [00:17<00:00,  1.08s/it]"
     ]
    },
    {
     "name": "stdout",
     "output_type": "stream",
     "text": [
      "Epoch: 18 \tTraining Loss: 1.351126 \tValidation Loss: 1.167431\n"
     ]
    },
    {
     "name": "stderr",
     "output_type": "stream",
     "text": [
      "\n",
      "Training: 100%|█████████████████████████████████| 63/63 [01:22<00:00,  1.31s/it]\n",
      "Validating: 100%|███████████████████████████████| 16/16 [00:17<00:00,  1.08s/it]"
     ]
    },
    {
     "name": "stdout",
     "output_type": "stream",
     "text": [
      "Epoch: 19 \tTraining Loss: 1.421618 \tValidation Loss: 1.174812\n"
     ]
    },
    {
     "name": "stderr",
     "output_type": "stream",
     "text": [
      "\n",
      "Training: 100%|█████████████████████████████████| 63/63 [01:23<00:00,  1.32s/it]\n",
      "Validating: 100%|███████████████████████████████| 16/16 [00:17<00:00,  1.08s/it]"
     ]
    },
    {
     "name": "stdout",
     "output_type": "stream",
     "text": [
      "Epoch: 20 \tTraining Loss: 1.335415 \tValidation Loss: 1.221514\n"
     ]
    },
    {
     "name": "stderr",
     "output_type": "stream",
     "text": [
      "\n",
      "Training: 100%|█████████████████████████████████| 63/63 [01:23<00:00,  1.32s/it]\n",
      "Validating: 100%|███████████████████████████████| 16/16 [00:17<00:00,  1.11s/it]"
     ]
    },
    {
     "name": "stdout",
     "output_type": "stream",
     "text": [
      "Epoch: 21 \tTraining Loss: 1.321766 \tValidation Loss: 1.147467\n"
     ]
    },
    {
     "name": "stderr",
     "output_type": "stream",
     "text": [
      "\n",
      "Training: 100%|█████████████████████████████████| 63/63 [01:24<00:00,  1.34s/it]\n",
      "Validating: 100%|███████████████████████████████| 16/16 [00:17<00:00,  1.08s/it]"
     ]
    },
    {
     "name": "stdout",
     "output_type": "stream",
     "text": [
      "Epoch: 22 \tTraining Loss: 1.281451 \tValidation Loss: 1.192298\n"
     ]
    },
    {
     "name": "stderr",
     "output_type": "stream",
     "text": [
      "\n",
      "Training: 100%|█████████████████████████████████| 63/63 [01:23<00:00,  1.32s/it]\n",
      "Validating: 100%|███████████████████████████████| 16/16 [00:17<00:00,  1.07s/it]"
     ]
    },
    {
     "name": "stdout",
     "output_type": "stream",
     "text": [
      "Epoch: 23 \tTraining Loss: 1.315830 \tValidation Loss: 1.154781\n"
     ]
    },
    {
     "name": "stderr",
     "output_type": "stream",
     "text": [
      "\n",
      "Training: 100%|█████████████████████████████████| 63/63 [01:23<00:00,  1.32s/it]\n",
      "Validating: 100%|███████████████████████████████| 16/16 [00:17<00:00,  1.07s/it]"
     ]
    },
    {
     "name": "stdout",
     "output_type": "stream",
     "text": [
      "Epoch: 24 \tTraining Loss: 1.287210 \tValidation Loss: 1.198053\n"
     ]
    },
    {
     "name": "stderr",
     "output_type": "stream",
     "text": [
      "\n",
      "Training: 100%|█████████████████████████████████| 63/63 [01:24<00:00,  1.34s/it]\n",
      "Validating: 100%|███████████████████████████████| 16/16 [00:17<00:00,  1.10s/it]"
     ]
    },
    {
     "name": "stdout",
     "output_type": "stream",
     "text": [
      "Epoch: 25 \tTraining Loss: 1.328933 \tValidation Loss: 1.150320\n"
     ]
    },
    {
     "name": "stderr",
     "output_type": "stream",
     "text": [
      "\n",
      "Training: 100%|█████████████████████████████████| 63/63 [01:23<00:00,  1.32s/it]\n",
      "Validating: 100%|███████████████████████████████| 16/16 [00:17<00:00,  1.08s/it]"
     ]
    },
    {
     "name": "stdout",
     "output_type": "stream",
     "text": [
      "Epoch: 26 \tTraining Loss: 1.287144 \tValidation Loss: 1.153651\n"
     ]
    },
    {
     "name": "stderr",
     "output_type": "stream",
     "text": [
      "\n",
      "Training: 100%|█████████████████████████████████| 63/63 [01:22<00:00,  1.31s/it]\n",
      "Validating: 100%|███████████████████████████████| 16/16 [00:17<00:00,  1.09s/it]"
     ]
    },
    {
     "name": "stdout",
     "output_type": "stream",
     "text": [
      "Epoch: 27 \tTraining Loss: 1.292517 \tValidation Loss: 1.169362\n"
     ]
    },
    {
     "name": "stderr",
     "output_type": "stream",
     "text": [
      "\n",
      "Training: 100%|█████████████████████████████████| 63/63 [01:25<00:00,  1.36s/it]\n",
      "Validating: 100%|███████████████████████████████| 16/16 [00:17<00:00,  1.08s/it]\n"
     ]
    },
    {
     "name": "stdout",
     "output_type": "stream",
     "text": [
      "Epoch: 28 \tTraining Loss: 1.263956 \tValidation Loss: 1.115051\n",
      "New minimum validation loss: 1.115051. Saving model ...\n"
     ]
    },
    {
     "name": "stderr",
     "output_type": "stream",
     "text": [
      "Training: 100%|█████████████████████████████████| 63/63 [01:23<00:00,  1.33s/it]\n",
      "Validating: 100%|███████████████████████████████| 16/16 [00:17<00:00,  1.08s/it]"
     ]
    },
    {
     "name": "stdout",
     "output_type": "stream",
     "text": [
      "Epoch: 29 \tTraining Loss: 1.238258 \tValidation Loss: 1.169407\n"
     ]
    },
    {
     "name": "stderr",
     "output_type": "stream",
     "text": [
      "\n",
      "Training: 100%|█████████████████████████████████| 63/63 [01:23<00:00,  1.33s/it]\n",
      "Validating: 100%|███████████████████████████████| 16/16 [00:17<00:00,  1.09s/it]"
     ]
    },
    {
     "name": "stdout",
     "output_type": "stream",
     "text": [
      "Epoch: 30 \tTraining Loss: 1.215883 \tValidation Loss: 1.172731\n"
     ]
    },
    {
     "name": "stderr",
     "output_type": "stream",
     "text": [
      "\n",
      "Training: 100%|█████████████████████████████████| 63/63 [01:23<00:00,  1.33s/it]\n",
      "Validating: 100%|███████████████████████████████| 16/16 [00:17<00:00,  1.09s/it]\n"
     ]
    },
    {
     "name": "stdout",
     "output_type": "stream",
     "text": [
      "Epoch: 31 \tTraining Loss: 1.221385 \tValidation Loss: 1.080184\n",
      "New minimum validation loss: 1.080184. Saving model ...\n"
     ]
    },
    {
     "name": "stderr",
     "output_type": "stream",
     "text": [
      "Training: 100%|█████████████████████████████████| 63/63 [01:23<00:00,  1.33s/it]\n",
      "Validating: 100%|███████████████████████████████| 16/16 [00:17<00:00,  1.09s/it]"
     ]
    },
    {
     "name": "stdout",
     "output_type": "stream",
     "text": [
      "Epoch: 32 \tTraining Loss: 1.259243 \tValidation Loss: 1.186306\n"
     ]
    },
    {
     "name": "stderr",
     "output_type": "stream",
     "text": [
      "\n",
      "Training: 100%|█████████████████████████████████| 63/63 [01:23<00:00,  1.33s/it]\n",
      "Validating: 100%|███████████████████████████████| 16/16 [00:17<00:00,  1.10s/it]"
     ]
    },
    {
     "name": "stdout",
     "output_type": "stream",
     "text": [
      "Epoch: 33 \tTraining Loss: 1.242588 \tValidation Loss: 1.125130\n"
     ]
    },
    {
     "name": "stderr",
     "output_type": "stream",
     "text": [
      "\n",
      "Training: 100%|█████████████████████████████████| 63/63 [01:23<00:00,  1.33s/it]\n",
      "Validating: 100%|███████████████████████████████| 16/16 [00:17<00:00,  1.10s/it]"
     ]
    },
    {
     "name": "stdout",
     "output_type": "stream",
     "text": [
      "Epoch: 34 \tTraining Loss: 1.210574 \tValidation Loss: 1.122475\n"
     ]
    },
    {
     "name": "stderr",
     "output_type": "stream",
     "text": [
      "\n",
      "Training: 100%|█████████████████████████████████| 63/63 [01:23<00:00,  1.32s/it]\n",
      "Validating: 100%|███████████████████████████████| 16/16 [00:17<00:00,  1.08s/it]"
     ]
    },
    {
     "name": "stdout",
     "output_type": "stream",
     "text": [
      "Epoch: 35 \tTraining Loss: 1.201679 \tValidation Loss: 1.110743\n"
     ]
    },
    {
     "name": "stderr",
     "output_type": "stream",
     "text": [
      "\n",
      "Training: 100%|█████████████████████████████████| 63/63 [01:23<00:00,  1.32s/it]\n",
      "Validating: 100%|███████████████████████████████| 16/16 [00:17<00:00,  1.07s/it]"
     ]
    },
    {
     "name": "stdout",
     "output_type": "stream",
     "text": [
      "Epoch: 36 \tTraining Loss: 1.178457 \tValidation Loss: 1.117022\n"
     ]
    },
    {
     "name": "stderr",
     "output_type": "stream",
     "text": [
      "\n",
      "Training: 100%|█████████████████████████████████| 63/63 [01:23<00:00,  1.33s/it]\n",
      "Validating: 100%|███████████████████████████████| 16/16 [00:17<00:00,  1.09s/it]"
     ]
    },
    {
     "name": "stdout",
     "output_type": "stream",
     "text": [
      "Epoch: 37 \tTraining Loss: 1.205891 \tValidation Loss: 1.126237\n"
     ]
    },
    {
     "name": "stderr",
     "output_type": "stream",
     "text": [
      "\n",
      "Training: 100%|█████████████████████████████████| 63/63 [01:23<00:00,  1.33s/it]\n",
      "Validating: 100%|███████████████████████████████| 16/16 [00:17<00:00,  1.08s/it]"
     ]
    },
    {
     "name": "stdout",
     "output_type": "stream",
     "text": [
      "Epoch: 38 \tTraining Loss: 1.198112 \tValidation Loss: 1.121832\n"
     ]
    },
    {
     "name": "stderr",
     "output_type": "stream",
     "text": [
      "\n",
      "Training: 100%|█████████████████████████████████| 63/63 [01:23<00:00,  1.33s/it]\n",
      "Validating: 100%|███████████████████████████████| 16/16 [00:17<00:00,  1.08s/it]"
     ]
    },
    {
     "name": "stdout",
     "output_type": "stream",
     "text": [
      "Epoch: 39 \tTraining Loss: 1.209379 \tValidation Loss: 1.124217\n"
     ]
    },
    {
     "name": "stderr",
     "output_type": "stream",
     "text": [
      "\n",
      "Training: 100%|█████████████████████████████████| 63/63 [01:24<00:00,  1.34s/it]\n",
      "Validating: 100%|███████████████████████████████| 16/16 [00:17<00:00,  1.08s/it]"
     ]
    },
    {
     "name": "stdout",
     "output_type": "stream",
     "text": [
      "Epoch: 40 \tTraining Loss: 1.243984 \tValidation Loss: 1.137996\n"
     ]
    },
    {
     "name": "stderr",
     "output_type": "stream",
     "text": [
      "\n",
      "Training: 100%|█████████████████████████████████| 63/63 [01:24<00:00,  1.35s/it]\n",
      "Validating: 100%|███████████████████████████████| 16/16 [00:17<00:00,  1.10s/it]"
     ]
    },
    {
     "name": "stdout",
     "output_type": "stream",
     "text": [
      "Epoch: 41 \tTraining Loss: 1.200754 \tValidation Loss: 1.110565\n"
     ]
    },
    {
     "name": "stderr",
     "output_type": "stream",
     "text": [
      "\n",
      "Training: 100%|█████████████████████████████████| 63/63 [01:22<00:00,  1.32s/it]\n",
      "Validating: 100%|███████████████████████████████| 16/16 [00:17<00:00,  1.08s/it]"
     ]
    },
    {
     "name": "stdout",
     "output_type": "stream",
     "text": [
      "Epoch: 42 \tTraining Loss: 1.199777 \tValidation Loss: 1.135716\n",
      "Epoch 00042: reducing learning rate of group 0 to 5.0000e-04.\n"
     ]
    },
    {
     "name": "stderr",
     "output_type": "stream",
     "text": [
      "\n",
      "Training: 100%|█████████████████████████████████| 63/63 [01:23<00:00,  1.33s/it]\n",
      "Validating: 100%|███████████████████████████████| 16/16 [00:17<00:00,  1.08s/it]"
     ]
    },
    {
     "name": "stdout",
     "output_type": "stream",
     "text": [
      "Epoch: 43 \tTraining Loss: 1.114595 \tValidation Loss: 1.080102\n"
     ]
    },
    {
     "name": "stderr",
     "output_type": "stream",
     "text": [
      "\n",
      "Training: 100%|█████████████████████████████████| 63/63 [01:23<00:00,  1.32s/it]\n",
      "Validating: 100%|███████████████████████████████| 16/16 [00:18<00:00,  1.13s/it]"
     ]
    },
    {
     "name": "stdout",
     "output_type": "stream",
     "text": [
      "Epoch: 44 \tTraining Loss: 1.099065 \tValidation Loss: 1.088680\n"
     ]
    },
    {
     "name": "stderr",
     "output_type": "stream",
     "text": [
      "\n",
      "Training: 100%|█████████████████████████████████| 63/63 [01:25<00:00,  1.36s/it]\n",
      "Validating: 100%|███████████████████████████████| 16/16 [00:17<00:00,  1.08s/it]"
     ]
    },
    {
     "name": "stdout",
     "output_type": "stream",
     "text": [
      "Epoch: 45 \tTraining Loss: 1.133641 \tValidation Loss: 1.072002\n"
     ]
    },
    {
     "name": "stderr",
     "output_type": "stream",
     "text": [
      "\n",
      "Training: 100%|█████████████████████████████████| 63/63 [01:23<00:00,  1.33s/it]\n",
      "Validating: 100%|███████████████████████████████| 16/16 [00:17<00:00,  1.10s/it]"
     ]
    },
    {
     "name": "stdout",
     "output_type": "stream",
     "text": [
      "Epoch: 46 \tTraining Loss: 1.108236 \tValidation Loss: 1.114377\n"
     ]
    },
    {
     "name": "stderr",
     "output_type": "stream",
     "text": [
      "\n",
      "Training: 100%|█████████████████████████████████| 63/63 [01:23<00:00,  1.32s/it]\n",
      "Validating: 100%|███████████████████████████████| 16/16 [00:17<00:00,  1.08s/it]\n"
     ]
    },
    {
     "name": "stdout",
     "output_type": "stream",
     "text": [
      "Epoch: 47 \tTraining Loss: 1.083122 \tValidation Loss: 1.063852\n",
      "New minimum validation loss: 1.063852. Saving model ...\n"
     ]
    },
    {
     "name": "stderr",
     "output_type": "stream",
     "text": [
      "Training: 100%|█████████████████████████████████| 63/63 [01:26<00:00,  1.37s/it]\n",
      "Validating: 100%|███████████████████████████████| 16/16 [00:17<00:00,  1.12s/it]"
     ]
    },
    {
     "name": "stdout",
     "output_type": "stream",
     "text": [
      "Epoch: 48 \tTraining Loss: 1.123025 \tValidation Loss: 1.105112\n"
     ]
    },
    {
     "name": "stderr",
     "output_type": "stream",
     "text": [
      "\n",
      "Training: 100%|█████████████████████████████████| 63/63 [01:23<00:00,  1.33s/it]\n",
      "Validating: 100%|███████████████████████████████| 16/16 [00:17<00:00,  1.09s/it]"
     ]
    },
    {
     "name": "stdout",
     "output_type": "stream",
     "text": [
      "Epoch: 49 \tTraining Loss: 1.075499 \tValidation Loss: 1.065026\n"
     ]
    },
    {
     "name": "stderr",
     "output_type": "stream",
     "text": [
      "\n",
      "Training: 100%|█████████████████████████████████| 63/63 [01:23<00:00,  1.32s/it]\n",
      "Validating: 100%|███████████████████████████████| 16/16 [00:17<00:00,  1.08s/it]"
     ]
    },
    {
     "name": "stdout",
     "output_type": "stream",
     "text": [
      "Epoch: 50 \tTraining Loss: 1.104890 \tValidation Loss: 1.085189\n"
     ]
    },
    {
     "name": "stderr",
     "output_type": "stream",
     "text": [
      "\n",
      "Training: 100%|█████████████████████████████████| 63/63 [01:23<00:00,  1.33s/it]\n",
      "Validating: 100%|███████████████████████████████| 16/16 [00:17<00:00,  1.08s/it]"
     ]
    },
    {
     "name": "stdout",
     "output_type": "stream",
     "text": [
      "Epoch: 51 \tTraining Loss: 1.075545 \tValidation Loss: 1.082791\n"
     ]
    },
    {
     "name": "stderr",
     "output_type": "stream",
     "text": [
      "\n",
      "Training: 100%|█████████████████████████████████| 63/63 [01:25<00:00,  1.36s/it]\n",
      "Validating: 100%|███████████████████████████████| 16/16 [00:17<00:00,  1.08s/it]"
     ]
    },
    {
     "name": "stdout",
     "output_type": "stream",
     "text": [
      "Epoch: 52 \tTraining Loss: 1.104187 \tValidation Loss: 1.108168\n"
     ]
    },
    {
     "name": "stderr",
     "output_type": "stream",
     "text": [
      "\n",
      "Training: 100%|█████████████████████████████████| 63/63 [01:24<00:00,  1.34s/it]\n",
      "Validating: 100%|███████████████████████████████| 16/16 [00:17<00:00,  1.08s/it]"
     ]
    },
    {
     "name": "stdout",
     "output_type": "stream",
     "text": [
      "Epoch: 53 \tTraining Loss: 1.098462 \tValidation Loss: 1.109140\n"
     ]
    },
    {
     "name": "stderr",
     "output_type": "stream",
     "text": [
      "\n",
      "Training: 100%|█████████████████████████████████| 63/63 [01:23<00:00,  1.33s/it]\n",
      "Validating: 100%|███████████████████████████████| 16/16 [00:17<00:00,  1.12s/it]"
     ]
    },
    {
     "name": "stdout",
     "output_type": "stream",
     "text": [
      "Epoch: 54 \tTraining Loss: 1.086098 \tValidation Loss: 1.062048\n"
     ]
    },
    {
     "name": "stderr",
     "output_type": "stream",
     "text": [
      "\n",
      "Training: 100%|█████████████████████████████████| 63/63 [01:26<00:00,  1.37s/it]\n",
      "Validating: 100%|███████████████████████████████| 16/16 [00:17<00:00,  1.09s/it]"
     ]
    },
    {
     "name": "stdout",
     "output_type": "stream",
     "text": [
      "Epoch: 55 \tTraining Loss: 1.064744 \tValidation Loss: 1.085410\n"
     ]
    },
    {
     "name": "stderr",
     "output_type": "stream",
     "text": [
      "\n",
      "Training: 100%|█████████████████████████████████| 63/63 [01:23<00:00,  1.33s/it]\n",
      "Validating: 100%|███████████████████████████████| 16/16 [00:17<00:00,  1.08s/it]"
     ]
    },
    {
     "name": "stdout",
     "output_type": "stream",
     "text": [
      "Epoch: 56 \tTraining Loss: 1.111291 \tValidation Loss: 1.072770\n"
     ]
    },
    {
     "name": "stderr",
     "output_type": "stream",
     "text": [
      "\n",
      "Training: 100%|█████████████████████████████████| 63/63 [01:23<00:00,  1.32s/it]\n",
      "Validating: 100%|███████████████████████████████| 16/16 [00:17<00:00,  1.12s/it]"
     ]
    },
    {
     "name": "stdout",
     "output_type": "stream",
     "text": [
      "Epoch: 57 \tTraining Loss: 1.087679 \tValidation Loss: 1.108903\n"
     ]
    },
    {
     "name": "stderr",
     "output_type": "stream",
     "text": [
      "\n",
      "Training: 100%|█████████████████████████████████| 63/63 [01:23<00:00,  1.33s/it]\n",
      "Validating: 100%|███████████████████████████████| 16/16 [00:17<00:00,  1.12s/it]"
     ]
    },
    {
     "name": "stdout",
     "output_type": "stream",
     "text": [
      "Epoch: 58 \tTraining Loss: 1.085441 \tValidation Loss: 1.082610\n",
      "Epoch 00058: reducing learning rate of group 0 to 2.5000e-04.\n"
     ]
    },
    {
     "name": "stderr",
     "output_type": "stream",
     "text": [
      "\n",
      "Training: 100%|█████████████████████████████████| 63/63 [01:25<00:00,  1.36s/it]\n",
      "Validating: 100%|███████████████████████████████| 16/16 [00:17<00:00,  1.08s/it]"
     ]
    },
    {
     "name": "stdout",
     "output_type": "stream",
     "text": [
      "Epoch: 59 \tTraining Loss: 1.064331 \tValidation Loss: 1.072707\n"
     ]
    },
    {
     "name": "stderr",
     "output_type": "stream",
     "text": [
      "\n",
      "Training: 100%|█████████████████████████████████| 63/63 [01:24<00:00,  1.34s/it]\n",
      "Validating: 100%|███████████████████████████████| 16/16 [00:17<00:00,  1.10s/it]"
     ]
    },
    {
     "name": "stdout",
     "output_type": "stream",
     "text": [
      "Epoch: 60 \tTraining Loss: 1.046450 \tValidation Loss: 1.088087\n"
     ]
    },
    {
     "name": "stderr",
     "output_type": "stream",
     "text": [
      "\n",
      "Training: 100%|█████████████████████████████████| 63/63 [01:24<00:00,  1.34s/it]\n",
      "Validating: 100%|███████████████████████████████| 16/16 [00:17<00:00,  1.09s/it]"
     ]
    },
    {
     "name": "stdout",
     "output_type": "stream",
     "text": [
      "Epoch: 61 \tTraining Loss: 1.037195 \tValidation Loss: 1.076762\n"
     ]
    },
    {
     "name": "stderr",
     "output_type": "stream",
     "text": [
      "\n",
      "Training: 100%|█████████████████████████████████| 63/63 [01:26<00:00,  1.38s/it]\n",
      "Validating: 100%|███████████████████████████████| 16/16 [00:17<00:00,  1.10s/it]"
     ]
    },
    {
     "name": "stdout",
     "output_type": "stream",
     "text": [
      "Epoch: 62 \tTraining Loss: 1.029103 \tValidation Loss: 1.053681\n"
     ]
    },
    {
     "name": "stderr",
     "output_type": "stream",
     "text": [
      "\n",
      "Training: 100%|█████████████████████████████████| 63/63 [01:23<00:00,  1.33s/it]\n",
      "Validating: 100%|███████████████████████████████| 16/16 [00:17<00:00,  1.08s/it]"
     ]
    },
    {
     "name": "stdout",
     "output_type": "stream",
     "text": [
      "Epoch: 63 \tTraining Loss: 1.049424 \tValidation Loss: 1.054052\n"
     ]
    },
    {
     "name": "stderr",
     "output_type": "stream",
     "text": [
      "\n",
      "Training: 100%|█████████████████████████████████| 63/63 [01:23<00:00,  1.33s/it]\n",
      "Validating: 100%|███████████████████████████████| 16/16 [00:17<00:00,  1.08s/it]\n"
     ]
    },
    {
     "name": "stdout",
     "output_type": "stream",
     "text": [
      "Epoch: 64 \tTraining Loss: 1.048445 \tValidation Loss: 1.050791\n",
      "New minimum validation loss: 1.050791. Saving model ...\n"
     ]
    },
    {
     "name": "stderr",
     "output_type": "stream",
     "text": [
      "Training: 100%|█████████████████████████████████| 63/63 [01:24<00:00,  1.34s/it]\n",
      "Validating: 100%|███████████████████████████████| 16/16 [00:18<00:00,  1.13s/it]"
     ]
    },
    {
     "name": "stdout",
     "output_type": "stream",
     "text": [
      "Epoch: 65 \tTraining Loss: 1.023301 \tValidation Loss: 1.042904\n"
     ]
    },
    {
     "name": "stderr",
     "output_type": "stream",
     "text": [
      "\n",
      "Training: 100%|█████████████████████████████████| 63/63 [01:24<00:00,  1.35s/it]\n",
      "Validating: 100%|███████████████████████████████| 16/16 [00:17<00:00,  1.08s/it]"
     ]
    },
    {
     "name": "stdout",
     "output_type": "stream",
     "text": [
      "Epoch: 66 \tTraining Loss: 1.037004 \tValidation Loss: 1.054524\n"
     ]
    },
    {
     "name": "stderr",
     "output_type": "stream",
     "text": [
      "\n",
      "Training: 100%|█████████████████████████████████| 63/63 [01:26<00:00,  1.38s/it]\n",
      "Validating: 100%|███████████████████████████████| 16/16 [00:18<00:00,  1.14s/it]"
     ]
    },
    {
     "name": "stdout",
     "output_type": "stream",
     "text": [
      "Epoch: 67 \tTraining Loss: 1.039038 \tValidation Loss: 1.052898\n"
     ]
    },
    {
     "name": "stderr",
     "output_type": "stream",
     "text": [
      "\n",
      "Training: 100%|█████████████████████████████████| 63/63 [01:25<00:00,  1.36s/it]\n",
      "Validating: 100%|███████████████████████████████| 16/16 [00:17<00:00,  1.11s/it]"
     ]
    },
    {
     "name": "stdout",
     "output_type": "stream",
     "text": [
      "Epoch: 68 \tTraining Loss: 1.037306 \tValidation Loss: 1.044289\n"
     ]
    },
    {
     "name": "stderr",
     "output_type": "stream",
     "text": [
      "\n",
      "Training: 100%|█████████████████████████████████| 63/63 [01:27<00:00,  1.38s/it]\n",
      "Validating: 100%|███████████████████████████████| 16/16 [00:17<00:00,  1.11s/it]"
     ]
    },
    {
     "name": "stdout",
     "output_type": "stream",
     "text": [
      "Epoch: 69 \tTraining Loss: 1.014759 \tValidation Loss: 1.049218\n"
     ]
    },
    {
     "name": "stderr",
     "output_type": "stream",
     "text": [
      "\n",
      "Training: 100%|█████████████████████████████████| 63/63 [01:25<00:00,  1.36s/it]\n",
      "Validating: 100%|███████████████████████████████| 16/16 [00:17<00:00,  1.10s/it]"
     ]
    },
    {
     "name": "stdout",
     "output_type": "stream",
     "text": [
      "Epoch: 70 \tTraining Loss: 1.038291 \tValidation Loss: 1.061357\n"
     ]
    },
    {
     "name": "stderr",
     "output_type": "stream",
     "text": [
      "\n",
      "Training: 100%|█████████████████████████████████| 63/63 [01:24<00:00,  1.33s/it]\n",
      "Validating: 100%|███████████████████████████████| 16/16 [00:17<00:00,  1.11s/it]"
     ]
    },
    {
     "name": "stdout",
     "output_type": "stream",
     "text": [
      "Epoch: 71 \tTraining Loss: 1.036946 \tValidation Loss: 1.073585\n"
     ]
    },
    {
     "name": "stderr",
     "output_type": "stream",
     "text": [
      "\n",
      "Training: 100%|█████████████████████████████████| 63/63 [01:25<00:00,  1.36s/it]\n",
      "Validating: 100%|███████████████████████████████| 16/16 [00:18<00:00,  1.14s/it]"
     ]
    },
    {
     "name": "stdout",
     "output_type": "stream",
     "text": [
      "Epoch: 72 \tTraining Loss: 1.033767 \tValidation Loss: 1.046877\n"
     ]
    },
    {
     "name": "stderr",
     "output_type": "stream",
     "text": [
      "\n",
      "Training: 100%|█████████████████████████████████| 63/63 [01:27<00:00,  1.39s/it]\n",
      "Validating: 100%|███████████████████████████████| 16/16 [00:18<00:00,  1.13s/it]"
     ]
    },
    {
     "name": "stdout",
     "output_type": "stream",
     "text": [
      "Epoch: 73 \tTraining Loss: 1.073032 \tValidation Loss: 1.046961\n"
     ]
    },
    {
     "name": "stderr",
     "output_type": "stream",
     "text": [
      "\n",
      "Training: 100%|█████████████████████████████████| 63/63 [01:23<00:00,  1.33s/it]\n",
      "Validating: 100%|███████████████████████████████| 16/16 [00:17<00:00,  1.08s/it]"
     ]
    },
    {
     "name": "stdout",
     "output_type": "stream",
     "text": [
      "Epoch: 74 \tTraining Loss: 1.026112 \tValidation Loss: 1.060067\n"
     ]
    },
    {
     "name": "stderr",
     "output_type": "stream",
     "text": [
      "\n",
      "Training: 100%|█████████████████████████████████| 63/63 [01:23<00:00,  1.33s/it]\n",
      "Validating: 100%|███████████████████████████████| 16/16 [00:17<00:00,  1.08s/it]"
     ]
    },
    {
     "name": "stdout",
     "output_type": "stream",
     "text": [
      "Epoch: 75 \tTraining Loss: 1.005995 \tValidation Loss: 1.052902\n",
      "Epoch 00075: reducing learning rate of group 0 to 1.2500e-04.\n"
     ]
    },
    {
     "name": "stderr",
     "output_type": "stream",
     "text": [
      "\n",
      "Training: 100%|█████████████████████████████████| 63/63 [01:24<00:00,  1.35s/it]\n",
      "Validating: 100%|███████████████████████████████| 16/16 [00:17<00:00,  1.11s/it]"
     ]
    },
    {
     "name": "stdout",
     "output_type": "stream",
     "text": [
      "Epoch: 76 \tTraining Loss: 1.005737 \tValidation Loss: 1.046350\n"
     ]
    },
    {
     "name": "stderr",
     "output_type": "stream",
     "text": [
      "\n",
      "Training: 100%|█████████████████████████████████| 63/63 [01:25<00:00,  1.35s/it]\n",
      "Validating: 100%|███████████████████████████████| 16/16 [00:17<00:00,  1.09s/it]"
     ]
    },
    {
     "name": "stdout",
     "output_type": "stream",
     "text": [
      "Epoch: 77 \tTraining Loss: 1.044559 \tValidation Loss: 1.041734\n"
     ]
    },
    {
     "name": "stderr",
     "output_type": "stream",
     "text": [
      "\n",
      "Training: 100%|█████████████████████████████████| 63/63 [01:24<00:00,  1.34s/it]\n",
      "Validating: 100%|███████████████████████████████| 16/16 [00:17<00:00,  1.08s/it]\n"
     ]
    },
    {
     "name": "stdout",
     "output_type": "stream",
     "text": [
      "Epoch: 78 \tTraining Loss: 0.992350 \tValidation Loss: 1.037171\n",
      "New minimum validation loss: 1.037171. Saving model ...\n"
     ]
    },
    {
     "name": "stderr",
     "output_type": "stream",
     "text": [
      "Training: 100%|█████████████████████████████████| 63/63 [01:23<00:00,  1.33s/it]\n",
      "Validating: 100%|███████████████████████████████| 16/16 [00:17<00:00,  1.12s/it]"
     ]
    },
    {
     "name": "stdout",
     "output_type": "stream",
     "text": [
      "Epoch: 79 \tTraining Loss: 1.019195 \tValidation Loss: 1.038795\n"
     ]
    },
    {
     "name": "stderr",
     "output_type": "stream",
     "text": [
      "\n",
      "Training: 100%|█████████████████████████████████| 63/63 [01:28<00:00,  1.41s/it]\n",
      "Validating: 100%|███████████████████████████████| 16/16 [00:17<00:00,  1.11s/it]\n"
     ]
    },
    {
     "name": "stdout",
     "output_type": "stream",
     "text": [
      "Epoch: 80 \tTraining Loss: 0.993744 \tValidation Loss: 1.024586\n",
      "New minimum validation loss: 1.024586. Saving model ...\n"
     ]
    },
    {
     "name": "stderr",
     "output_type": "stream",
     "text": [
      "Training: 100%|█████████████████████████████████| 63/63 [01:24<00:00,  1.34s/it]\n",
      "Validating: 100%|███████████████████████████████| 16/16 [00:17<00:00,  1.09s/it]"
     ]
    },
    {
     "name": "stdout",
     "output_type": "stream",
     "text": [
      "Epoch: 81 \tTraining Loss: 0.994876 \tValidation Loss: 1.031419\n"
     ]
    },
    {
     "name": "stderr",
     "output_type": "stream",
     "text": [
      "\n",
      "Training: 100%|█████████████████████████████████| 63/63 [01:23<00:00,  1.33s/it]\n",
      "Validating: 100%|███████████████████████████████| 16/16 [00:17<00:00,  1.09s/it]"
     ]
    },
    {
     "name": "stdout",
     "output_type": "stream",
     "text": [
      "Epoch: 82 \tTraining Loss: 1.021464 \tValidation Loss: 1.050139\n"
     ]
    },
    {
     "name": "stderr",
     "output_type": "stream",
     "text": [
      "\n",
      "Training: 100%|█████████████████████████████████| 63/63 [01:24<00:00,  1.34s/it]\n",
      "Validating: 100%|███████████████████████████████| 16/16 [00:17<00:00,  1.11s/it]"
     ]
    },
    {
     "name": "stdout",
     "output_type": "stream",
     "text": [
      "Epoch: 83 \tTraining Loss: 1.029918 \tValidation Loss: 1.024442\n"
     ]
    },
    {
     "name": "stderr",
     "output_type": "stream",
     "text": [
      "\n",
      "Training: 100%|█████████████████████████████████| 63/63 [01:24<00:00,  1.34s/it]\n",
      "Validating: 100%|███████████████████████████████| 16/16 [00:17<00:00,  1.09s/it]"
     ]
    },
    {
     "name": "stdout",
     "output_type": "stream",
     "text": [
      "Epoch: 84 \tTraining Loss: 1.029026 \tValidation Loss: 1.048095\n"
     ]
    },
    {
     "name": "stderr",
     "output_type": "stream",
     "text": [
      "\n",
      "Training: 100%|█████████████████████████████████| 63/63 [01:23<00:00,  1.32s/it]\n",
      "Validating: 100%|███████████████████████████████| 16/16 [00:17<00:00,  1.07s/it]"
     ]
    },
    {
     "name": "stdout",
     "output_type": "stream",
     "text": [
      "Epoch: 85 \tTraining Loss: 1.005256 \tValidation Loss: 1.026630\n"
     ]
    },
    {
     "name": "stderr",
     "output_type": "stream",
     "text": [
      "\n",
      "Training: 100%|█████████████████████████████████| 63/63 [01:23<00:00,  1.32s/it]\n",
      "Validating: 100%|███████████████████████████████| 16/16 [00:17<00:00,  1.07s/it]"
     ]
    },
    {
     "name": "stdout",
     "output_type": "stream",
     "text": [
      "Epoch: 86 \tTraining Loss: 1.032887 \tValidation Loss: 1.029706\n"
     ]
    },
    {
     "name": "stderr",
     "output_type": "stream",
     "text": [
      "\n",
      "Training: 100%|█████████████████████████████████| 63/63 [01:26<00:00,  1.38s/it]\n",
      "Validating: 100%|███████████████████████████████| 16/16 [00:17<00:00,  1.08s/it]"
     ]
    },
    {
     "name": "stdout",
     "output_type": "stream",
     "text": [
      "Epoch: 87 \tTraining Loss: 1.007640 \tValidation Loss: 1.021892\n"
     ]
    },
    {
     "name": "stderr",
     "output_type": "stream",
     "text": [
      "\n",
      "Training: 100%|█████████████████████████████████| 63/63 [01:23<00:00,  1.33s/it]\n",
      "Validating: 100%|███████████████████████████████| 16/16 [00:17<00:00,  1.08s/it]"
     ]
    },
    {
     "name": "stdout",
     "output_type": "stream",
     "text": [
      "Epoch: 88 \tTraining Loss: 0.980746 \tValidation Loss: 1.043570\n"
     ]
    },
    {
     "name": "stderr",
     "output_type": "stream",
     "text": [
      "\n",
      "Training: 100%|█████████████████████████████████| 63/63 [01:23<00:00,  1.33s/it]\n",
      "Validating: 100%|███████████████████████████████| 16/16 [00:17<00:00,  1.07s/it]"
     ]
    },
    {
     "name": "stdout",
     "output_type": "stream",
     "text": [
      "Epoch: 89 \tTraining Loss: 0.998435 \tValidation Loss: 1.041453\n"
     ]
    },
    {
     "name": "stderr",
     "output_type": "stream",
     "text": [
      "\n",
      "Training: 100%|█████████████████████████████████| 63/63 [01:25<00:00,  1.35s/it]\n",
      "Validating: 100%|███████████████████████████████| 16/16 [00:17<00:00,  1.12s/it]"
     ]
    },
    {
     "name": "stdout",
     "output_type": "stream",
     "text": [
      "Epoch: 90 \tTraining Loss: 1.008073 \tValidation Loss: 1.036279\n"
     ]
    },
    {
     "name": "stderr",
     "output_type": "stream",
     "text": [
      "\n",
      "Training: 100%|█████████████████████████████████| 63/63 [01:24<00:00,  1.33s/it]\n",
      "Validating: 100%|███████████████████████████████| 16/16 [00:17<00:00,  1.10s/it]"
     ]
    },
    {
     "name": "stdout",
     "output_type": "stream",
     "text": [
      "Epoch: 91 \tTraining Loss: 0.987028 \tValidation Loss: 1.040500\n",
      "Epoch 00091: reducing learning rate of group 0 to 6.2500e-05.\n"
     ]
    },
    {
     "name": "stderr",
     "output_type": "stream",
     "text": [
      "\n",
      "Training: 100%|█████████████████████████████████| 63/63 [01:22<00:00,  1.32s/it]\n",
      "Validating: 100%|███████████████████████████████| 16/16 [00:17<00:00,  1.07s/it]"
     ]
    },
    {
     "name": "stdout",
     "output_type": "stream",
     "text": [
      "Epoch: 92 \tTraining Loss: 0.997413 \tValidation Loss: 1.021375\n"
     ]
    },
    {
     "name": "stderr",
     "output_type": "stream",
     "text": [
      "\n",
      "Training: 100%|█████████████████████████████████| 63/63 [01:23<00:00,  1.32s/it]\n",
      "Validating: 100%|███████████████████████████████| 16/16 [00:17<00:00,  1.09s/it]"
     ]
    },
    {
     "name": "stdout",
     "output_type": "stream",
     "text": [
      "Epoch: 93 \tTraining Loss: 1.007306 \tValidation Loss: 1.032751\n"
     ]
    },
    {
     "name": "stderr",
     "output_type": "stream",
     "text": [
      "\n",
      "Training: 100%|█████████████████████████████████| 63/63 [01:24<00:00,  1.34s/it]\n",
      "Validating: 100%|███████████████████████████████| 16/16 [00:17<00:00,  1.09s/it]"
     ]
    },
    {
     "name": "stdout",
     "output_type": "stream",
     "text": [
      "Epoch: 94 \tTraining Loss: 0.994748 \tValidation Loss: 1.028179\n"
     ]
    },
    {
     "name": "stderr",
     "output_type": "stream",
     "text": [
      "\n",
      "Training: 100%|█████████████████████████████████| 63/63 [01:23<00:00,  1.32s/it]\n",
      "Validating: 100%|███████████████████████████████| 16/16 [00:17<00:00,  1.08s/it]"
     ]
    },
    {
     "name": "stdout",
     "output_type": "stream",
     "text": [
      "Epoch: 95 \tTraining Loss: 1.021134 \tValidation Loss: 1.038596\n"
     ]
    },
    {
     "name": "stderr",
     "output_type": "stream",
     "text": [
      "\n",
      "Training: 100%|█████████████████████████████████| 63/63 [01:22<00:00,  1.32s/it]\n",
      "Validating: 100%|███████████████████████████████| 16/16 [00:17<00:00,  1.08s/it]"
     ]
    },
    {
     "name": "stdout",
     "output_type": "stream",
     "text": [
      "Epoch: 96 \tTraining Loss: 0.975744 \tValidation Loss: 1.029276\n"
     ]
    },
    {
     "name": "stderr",
     "output_type": "stream",
     "text": [
      "\n",
      "Training: 100%|█████████████████████████████████| 63/63 [01:23<00:00,  1.33s/it]\n",
      "Validating: 100%|███████████████████████████████| 16/16 [00:17<00:00,  1.09s/it]"
     ]
    },
    {
     "name": "stdout",
     "output_type": "stream",
     "text": [
      "Epoch: 97 \tTraining Loss: 0.987417 \tValidation Loss: 1.027828\n"
     ]
    },
    {
     "name": "stderr",
     "output_type": "stream",
     "text": [
      "\n",
      "Training: 100%|█████████████████████████████████| 63/63 [01:22<00:00,  1.32s/it]\n",
      "Validating: 100%|███████████████████████████████| 16/16 [00:17<00:00,  1.10s/it]"
     ]
    },
    {
     "name": "stdout",
     "output_type": "stream",
     "text": [
      "Epoch: 98 \tTraining Loss: 1.009405 \tValidation Loss: 1.027660\n"
     ]
    },
    {
     "name": "stderr",
     "output_type": "stream",
     "text": [
      "\n",
      "Training: 100%|█████████████████████████████████| 63/63 [01:22<00:00,  1.32s/it]\n",
      "Validating: 100%|███████████████████████████████| 16/16 [00:17<00:00,  1.08s/it]"
     ]
    },
    {
     "name": "stdout",
     "output_type": "stream",
     "text": [
      "Epoch: 99 \tTraining Loss: 1.012333 \tValidation Loss: 1.027489\n"
     ]
    },
    {
     "name": "stderr",
     "output_type": "stream",
     "text": [
      "\n",
      "Training: 100%|█████████████████████████████████| 63/63 [01:24<00:00,  1.33s/it]\n",
      "Validating: 100%|███████████████████████████████| 16/16 [00:17<00:00,  1.08s/it]"
     ]
    },
    {
     "name": "stdout",
     "output_type": "stream",
     "text": [
      "Epoch: 100 \tTraining Loss: 0.980701 \tValidation Loss: 1.024798\n"
     ]
    },
    {
     "name": "stderr",
     "output_type": "stream",
     "text": [
      "\n"
     ]
    }
   ],
   "source": [
    "from src.data import get_data_loaders\n",
    "from src.optimization import get_optimizer, get_loss\n",
    "from src.train import optimize\n",
    "from src.transfer import get_model_transfer_learning\n",
    "\n",
    "# Get a model using get_model_transfer_learning. Use one of the names reported here: https://pytorch.org/vision/0.10/models.html.\n",
    "# For example, if you want to load ResNet 18, use \"resnet18\".\n",
    "# NOTE: use the hyperparameters defined in the previous cell, do NOT copy/paste the values\n",
    "model_transfer = get_model_transfer_learning(model_name=model_name, n_classes=num_classes)\n",
    "\n",
    "# train the model\n",
    "data_loaders = get_data_loaders(batch_size=batch_size)\n",
    "optimizer = get_optimizer(model_transfer, learning_rate=learning_rate, optimizer=opt, weight_decay=weight_decay)\n",
    "loss = get_loss()\n",
    "optimize(data_loaders, model_transfer, optimizer, loss, n_epochs=num_epochs, save_path=\"checkpoints/model_transfer.pt\", interactive_tracking=False)"
   ]
  },
  {
   "cell_type": "markdown",
   "metadata": {},
   "source": [
    "<img src=\"static_images/icons/noun-question-mark-869751.png\" alt=\"?\" style=\"width:25px\"/> __Question:__ Outline the steps you took to get to your final CNN architecture and your reasoning at each step.  Describe why you think the architecture is suitable for the current problem."
   ]
  },
  {
   "cell_type": "markdown",
   "metadata": {},
   "source": [
    "<img src=\"static_images/icons/noun-answer-3361020.png\" alt=\">\" style=\"width:25px\"/>  __Answer:__ \n",
    "\n",
    "Resnet152 is used because it is a very successful model for general image classification."
   ]
  },
  {
   "cell_type": "markdown",
   "metadata": {},
   "source": [
    "Now play with the hyperparameters and see which performance you can get on the validation set. You should get at least 60% for a passing grade, but a good model choice and a good training strategy could get you up to 80% or so. Let's see how close you can get!"
   ]
  },
  {
   "cell_type": "markdown",
   "metadata": {},
   "source": [
    "---\n",
    "## <img src=\"static_images/icons/noun-advance-2109145.png\" alt=\">\" style=\"width:50px\"/> Step 3: Test the Model\n",
    "\n",
    "Try out your model on the test dataset of landmark images. Use the code cell below to calculate and print the test loss and accuracy.  Ensure that your test accuracy is greater than 60% and matches more or less what you got on the validation set (otherwise you're overfitting!)"
   ]
  },
  {
   "cell_type": "code",
   "execution_count": 6,
   "metadata": {},
   "outputs": [
    {
     "name": "stderr",
     "output_type": "stream",
     "text": [
      "Testing: 100%|██████████████████████████████████| 20/20 [00:20<00:00,  1.05s/it]"
     ]
    },
    {
     "name": "stdout",
     "output_type": "stream",
     "text": [
      "Test Loss: 0.915711\n",
      "\n",
      "\n",
      "Test Accuracy: 77% (969/1250)\n"
     ]
    },
    {
     "name": "stderr",
     "output_type": "stream",
     "text": [
      "\n"
     ]
    },
    {
     "data": {
      "text/plain": [
       "0.9157114654779435"
      ]
     },
     "execution_count": 6,
     "metadata": {},
     "output_type": "execute_result"
    }
   ],
   "source": [
    "import torch\n",
    "from src.train import one_epoch_test\n",
    "from src.transfer import get_model_transfer_learning\n",
    "\n",
    "model_transfer = get_model_transfer_learning(model_name=model_name, n_classes=num_classes)\n",
    "model_transfer.load_state_dict(torch.load('checkpoints/model_transfer.pt')) # Load saved weights\n",
    "one_epoch_test(data_loaders['test'], model_transfer, loss)"
   ]
  },
  {
   "cell_type": "markdown",
   "metadata": {},
   "source": [
    "---\n",
    "## <img src=\"static_images/icons/noun-advance-2109145.png\" alt=\">\" style=\"width:50px\"/> Step 4: Export using torchscript\n",
    "\n",
    "Now, just like we did with our original model, we export the best fit model using torchscript so that it can be used in our application:"
   ]
  },
  {
   "cell_type": "code",
   "execution_count": 7,
   "metadata": {},
   "outputs": [
    {
     "name": "stdout",
     "output_type": "stream",
     "text": [
      "Reusing cached mean and std\n"
     ]
    }
   ],
   "source": [
    "from src.predictor import Predictor\n",
    "from src.helpers import compute_mean_and_std\n",
    "\n",
    "# First let's get the class names from our data loaders\n",
    "class_names = data_loaders[\"train\"].dataset.classes\n",
    "\n",
    "# Then let's move the model_transfer to the CPU (we don't need GPU for inference)\n",
    "model_transfer = model_transfer.cpu()\n",
    "\n",
    "# Let's make sure we use the right weights by loading the best weights we have found during training\n",
    "# NOTE: remember to use map_location='cpu' so the weights are loaded on the CPU (and not the GPU)\n",
    "model_transfer.load_state_dict(torch.load(\"checkpoints/model_transfer.pt\", map_location=\"cpu\"))\n",
    "\n",
    "# Let's wrap our model using the predictor class\n",
    "mean, std = compute_mean_and_std()\n",
    "predictor = Predictor(model_transfer, class_names, mean, std).cpu()\n",
    "\n",
    "# Export using torch.jit.script\n",
    "scripted_predictor = torch.jit.script(predictor)\n",
    "scripted_predictor.save(\"checkpoints/transfer_exported.pt\")"
   ]
  },
  {
   "cell_type": "code",
   "execution_count": 8,
   "metadata": {},
   "outputs": [
    {
     "name": "stderr",
     "output_type": "stream",
     "text": [
      "100%|█████████████████████████████████████| 1250/1250 [2:47:15<00:00,  8.03s/it]\n"
     ]
    },
    {
     "name": "stdout",
     "output_type": "stream",
     "text": [
      "Accuracy: 0.7544\n"
     ]
    },
    {
     "data": {
      "image/png": "[encoded data removed]",
      "text/plain": [
       "<Figure size 1008x864 with 1 Axes>"
      ]
     },
     "metadata": {
      "needs_background": "light"
     },
     "output_type": "display_data"
    }
   ],
   "source": [
    "import torch\n",
    "from src.predictor import predictor_test\n",
    "from src.helpers import plot_confusion_matrix\n",
    "\n",
    "model_reloaded = torch.jit.load(\"checkpoints/transfer_exported.pt\")\n",
    "pred, truth = predictor_test(data_loaders['test'], model_reloaded)\n",
    "plot_confusion_matrix(pred, truth)"
   ]
  },
  {
   "cell_type": "code",
   "execution_count": null,
   "metadata": {},
   "outputs": [],
   "source": []
  }
 ],
 "metadata": {
  "kernelspec": {
   "display_name": "Python 3",
   "language": "python",
   "name": "python3"
  },
  "language_info": {
   "codemirror_mode": {
    "name": "ipython",
    "version": 3
   },
   "file_extension": ".py",
   "mimetype": "text/x-python",
   "name": "python",
   "nbconvert_exporter": "python",
   "pygments_lexer": "ipython3",
   "version": "3.7.6"
  },
  "widgets": {
   "application/vnd.jupyter.widget-state+json": {
    "state": {},
    "version_major": 2,
    "version_minor": 0
   }
  }
 },
 "nbformat": 4,
 "nbformat_minor": 4
}
